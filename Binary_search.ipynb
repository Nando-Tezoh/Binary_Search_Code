{
 "cells": [
  {
   "cell_type": "code",
   "execution_count": null,
   "metadata": {},
   "outputs": [],
   "source": [
    "### Binary code form scratch"
   ]
  },
  {
   "cell_type": "code",
   "execution_count": null,
   "metadata": {},
   "outputs": [],
   "source": [
    "def binary_search(array, elt_to_search):\n",
    "    \n",
    "    \n",
    "    ## Here you sort the array if it doesn't\n",
    "    \n",
    "    array.sort()\n",
    "    \n",
    "    ## Compute the array len\n",
    "    \n",
    "    n = len(array)\n",
    "    \n",
    "    #left = []\n",
    "    \n",
    "    #right = []\n",
    "    \n",
    "    #equal = []\n",
    "    \n",
    "    \n",
    "    \n",
    "    if n>1:\n",
    "        \n",
    "    \n",
    "        if len(array)%2 != 0:\n",
    "            \n",
    "            p = array [int(n/2)]\n",
    "\n",
    "            left = array[:int(n/2)]\n",
    "\n",
    "            right = array[int(n/2)+1:]\n",
    "\n",
    "            \n",
    "\n",
    "            if elt_to_search > p:\n",
    "\n",
    "                return binary_search(right,elt_to_search)\n",
    "\n",
    "            elif elt_to_search < p:\n",
    "                \n",
    "                 return binary_search(left, elt_to_search)\n",
    "                \n",
    "        elif n%2==0:\n",
    "            \n",
    "            \n",
    "            left = array[: n/2]\n",
    "            right= array[n/2:]\n",
    "            p1= left[-1]\n",
    "            p2= right [0]\n",
    "            \n",
    "            if elt_to_search > p1:\n",
    "                \n",
    "                return binary_search(right, elt_to_search)\n",
    "            \n",
    "            elif elt_to_search < p2:\n",
    "                \n",
    "                return binary_search(left, elt_to_search)\n",
    "    else:\n",
    "        \n",
    "        return elt_to_search == array[0]\n",
    "            \n",
    "            \n",
    "        \n",
    "        \n",
    "        \n",
    "        \n",
    "        "
   ]
  }
 ],
 "metadata": {
  "kernelspec": {
   "display_name": "Python 3",
   "language": "python",
   "name": "python3"
  },
  "language_info": {
   "codemirror_mode": {
    "name": "ipython",
    "version": 3
   },
   "file_extension": ".py",
   "mimetype": "text/x-python",
   "name": "python",
   "nbconvert_exporter": "python",
   "pygments_lexer": "ipython3",
   "version": "3.7.3"
  }
 },
 "nbformat": 4,
 "nbformat_minor": 2
}
